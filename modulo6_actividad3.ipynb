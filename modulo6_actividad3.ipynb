{
  "cells": [
    {
      "cell_type": "markdown",
      "metadata": {
        "id": "view-in-github",
        "colab_type": "text"
      },
      "source": [
        "<a href=\"https://colab.research.google.com/github/avalosmarco/portafolioMarco/blob/main/modulo6_actividad3.ipynb\" target=\"_parent\"><img src=\"https://colab.research.google.com/assets/colab-badge.svg\" alt=\"Open In Colab\"/></a>"
      ]
    },
    {
      "cell_type": "markdown",
      "id": "b9829e71",
      "metadata": {
        "id": "b9829e71"
      },
      "source": [
        "#  ACTIVIDAD FORMATIVA – REGRESIÓN LINEAL CON DATOS DE VIVIENDAS\n",
        "\n",
        "## ¿Cuánto vale esta casa?\n",
        "Esta actividad te guiará paso a paso para construir y evaluar un modelo de regresión lineal que prediga el precio de una casa en base a sus características. Usa este cuaderno para ejecutar código, responder preguntas y entregar tus resultados."
      ]
    },
    {
      "cell_type": "markdown",
      "id": "512e9974",
      "metadata": {
        "id": "512e9974"
      },
      "source": [
        "## ✅ Paso 1: Cargar el dataset\n",
        "\n",
        "Cargar el archivo `house_prices.csv` con las siguientes columnas: `Home`, `Price`, `SqFt`, `Bedrooms`, `Bathrooms`, `Offers`, `Brick`, `Neighborhood`."
      ]
    },
    {
      "cell_type": "code",
      "execution_count": null,
      "id": "d7a325cb",
      "metadata": {
        "colab": {
          "base_uri": "https://localhost:8080/",
          "height": 73
        },
        "id": "d7a325cb",
        "outputId": "a5636198-9d6b-4404-e840-33be16129ce5"
      },
      "outputs": [
        {
          "output_type": "display_data",
          "data": {
            "text/plain": [
              "<IPython.core.display.HTML object>"
            ],
            "text/html": [
              "\n",
              "     <input type=\"file\" id=\"files-496ff313-ba52-466a-a8c3-dd966d03fd7b\" name=\"files[]\" multiple disabled\n",
              "        style=\"border:none\" />\n",
              "     <output id=\"result-496ff313-ba52-466a-a8c3-dd966d03fd7b\">\n",
              "      Upload widget is only available when the cell has been executed in the\n",
              "      current browser session. Please rerun this cell to enable.\n",
              "      </output>\n",
              "      <script>// Copyright 2017 Google LLC\n",
              "//\n",
              "// Licensed under the Apache License, Version 2.0 (the \"License\");\n",
              "// you may not use this file except in compliance with the License.\n",
              "// You may obtain a copy of the License at\n",
              "//\n",
              "//      http://www.apache.org/licenses/LICENSE-2.0\n",
              "//\n",
              "// Unless required by applicable law or agreed to in writing, software\n",
              "// distributed under the License is distributed on an \"AS IS\" BASIS,\n",
              "// WITHOUT WARRANTIES OR CONDITIONS OF ANY KIND, either express or implied.\n",
              "// See the License for the specific language governing permissions and\n",
              "// limitations under the License.\n",
              "\n",
              "/**\n",
              " * @fileoverview Helpers for google.colab Python module.\n",
              " */\n",
              "(function(scope) {\n",
              "function span(text, styleAttributes = {}) {\n",
              "  const element = document.createElement('span');\n",
              "  element.textContent = text;\n",
              "  for (const key of Object.keys(styleAttributes)) {\n",
              "    element.style[key] = styleAttributes[key];\n",
              "  }\n",
              "  return element;\n",
              "}\n",
              "\n",
              "// Max number of bytes which will be uploaded at a time.\n",
              "const MAX_PAYLOAD_SIZE = 100 * 1024;\n",
              "\n",
              "function _uploadFiles(inputId, outputId) {\n",
              "  const steps = uploadFilesStep(inputId, outputId);\n",
              "  const outputElement = document.getElementById(outputId);\n",
              "  // Cache steps on the outputElement to make it available for the next call\n",
              "  // to uploadFilesContinue from Python.\n",
              "  outputElement.steps = steps;\n",
              "\n",
              "  return _uploadFilesContinue(outputId);\n",
              "}\n",
              "\n",
              "// This is roughly an async generator (not supported in the browser yet),\n",
              "// where there are multiple asynchronous steps and the Python side is going\n",
              "// to poll for completion of each step.\n",
              "// This uses a Promise to block the python side on completion of each step,\n",
              "// then passes the result of the previous step as the input to the next step.\n",
              "function _uploadFilesContinue(outputId) {\n",
              "  const outputElement = document.getElementById(outputId);\n",
              "  const steps = outputElement.steps;\n",
              "\n",
              "  const next = steps.next(outputElement.lastPromiseValue);\n",
              "  return Promise.resolve(next.value.promise).then((value) => {\n",
              "    // Cache the last promise value to make it available to the next\n",
              "    // step of the generator.\n",
              "    outputElement.lastPromiseValue = value;\n",
              "    return next.value.response;\n",
              "  });\n",
              "}\n",
              "\n",
              "/**\n",
              " * Generator function which is called between each async step of the upload\n",
              " * process.\n",
              " * @param {string} inputId Element ID of the input file picker element.\n",
              " * @param {string} outputId Element ID of the output display.\n",
              " * @return {!Iterable<!Object>} Iterable of next steps.\n",
              " */\n",
              "function* uploadFilesStep(inputId, outputId) {\n",
              "  const inputElement = document.getElementById(inputId);\n",
              "  inputElement.disabled = false;\n",
              "\n",
              "  const outputElement = document.getElementById(outputId);\n",
              "  outputElement.innerHTML = '';\n",
              "\n",
              "  const pickedPromise = new Promise((resolve) => {\n",
              "    inputElement.addEventListener('change', (e) => {\n",
              "      resolve(e.target.files);\n",
              "    });\n",
              "  });\n",
              "\n",
              "  const cancel = document.createElement('button');\n",
              "  inputElement.parentElement.appendChild(cancel);\n",
              "  cancel.textContent = 'Cancel upload';\n",
              "  const cancelPromise = new Promise((resolve) => {\n",
              "    cancel.onclick = () => {\n",
              "      resolve(null);\n",
              "    };\n",
              "  });\n",
              "\n",
              "  // Wait for the user to pick the files.\n",
              "  const files = yield {\n",
              "    promise: Promise.race([pickedPromise, cancelPromise]),\n",
              "    response: {\n",
              "      action: 'starting',\n",
              "    }\n",
              "  };\n",
              "\n",
              "  cancel.remove();\n",
              "\n",
              "  // Disable the input element since further picks are not allowed.\n",
              "  inputElement.disabled = true;\n",
              "\n",
              "  if (!files) {\n",
              "    return {\n",
              "      response: {\n",
              "        action: 'complete',\n",
              "      }\n",
              "    };\n",
              "  }\n",
              "\n",
              "  for (const file of files) {\n",
              "    const li = document.createElement('li');\n",
              "    li.append(span(file.name, {fontWeight: 'bold'}));\n",
              "    li.append(span(\n",
              "        `(${file.type || 'n/a'}) - ${file.size} bytes, ` +\n",
              "        `last modified: ${\n",
              "            file.lastModifiedDate ? file.lastModifiedDate.toLocaleDateString() :\n",
              "                                    'n/a'} - `));\n",
              "    const percent = span('0% done');\n",
              "    li.appendChild(percent);\n",
              "\n",
              "    outputElement.appendChild(li);\n",
              "\n",
              "    const fileDataPromise = new Promise((resolve) => {\n",
              "      const reader = new FileReader();\n",
              "      reader.onload = (e) => {\n",
              "        resolve(e.target.result);\n",
              "      };\n",
              "      reader.readAsArrayBuffer(file);\n",
              "    });\n",
              "    // Wait for the data to be ready.\n",
              "    let fileData = yield {\n",
              "      promise: fileDataPromise,\n",
              "      response: {\n",
              "        action: 'continue',\n",
              "      }\n",
              "    };\n",
              "\n",
              "    // Use a chunked sending to avoid message size limits. See b/62115660.\n",
              "    let position = 0;\n",
              "    do {\n",
              "      const length = Math.min(fileData.byteLength - position, MAX_PAYLOAD_SIZE);\n",
              "      const chunk = new Uint8Array(fileData, position, length);\n",
              "      position += length;\n",
              "\n",
              "      const base64 = btoa(String.fromCharCode.apply(null, chunk));\n",
              "      yield {\n",
              "        response: {\n",
              "          action: 'append',\n",
              "          file: file.name,\n",
              "          data: base64,\n",
              "        },\n",
              "      };\n",
              "\n",
              "      let percentDone = fileData.byteLength === 0 ?\n",
              "          100 :\n",
              "          Math.round((position / fileData.byteLength) * 100);\n",
              "      percent.textContent = `${percentDone}% done`;\n",
              "\n",
              "    } while (position < fileData.byteLength);\n",
              "  }\n",
              "\n",
              "  // All done.\n",
              "  yield {\n",
              "    response: {\n",
              "      action: 'complete',\n",
              "    }\n",
              "  };\n",
              "}\n",
              "\n",
              "scope.google = scope.google || {};\n",
              "scope.google.colab = scope.google.colab || {};\n",
              "scope.google.colab._files = {\n",
              "  _uploadFiles,\n",
              "  _uploadFilesContinue,\n",
              "};\n",
              "})(self);\n",
              "</script> "
            ]
          },
          "metadata": {}
        },
        {
          "output_type": "stream",
          "name": "stdout",
          "text": [
            "Saving house-prices.csv to house-prices.csv\n"
          ]
        }
      ],
      "source": [
        "# Paso 1: Subir el archivo CSV desde tu computador\n",
        "from google.colab import files\n",
        "uploaded = files.upload()  # Se abrirá un cuadro para seleccionar el archivo local (ej. precios_casas.csv)\n",
        "\n",
        "# Paso 2: Importar librerías necesarias\n",
        "from sklearn.linear_model import LinearRegression\n",
        "from sklearn.model_selection import train_test_split\n",
        "import pandas as pd\n",
        "\n",
        "# Paso 3: Leer el archivo subido\n",
        "df = pd.read_csv(\"house-prices.csv\")"
      ]
    },
    {
      "cell_type": "markdown",
      "id": "e4a76eed",
      "metadata": {
        "id": "e4a76eed"
      },
      "source": [
        "## Paso 2: Selección de variables y partición\n",
        "\n",
        "Vamos a usar `SqFt` como variable predictora (tamaño en pies cuadrados) y `Price` como variable objetivo (precio)."
      ]
    },
    {
      "cell_type": "code",
      "execution_count": null,
      "id": "da6783b5",
      "metadata": {
        "id": "da6783b5"
      },
      "outputs": [],
      "source": [
        "from sklearn.model_selection import train_test_split\n",
        "\n",
        "# Definir X e y\n",
        "# INGRESA TU CODIGO ACÁ\n",
        "# Definir X (predictora) e y (objetivo)\n",
        "X = df[['SqFt']]  # Variable independiente (debe ser un DataFrame 2D)\n",
        "y = df['Price']    # Variable dependiente\n",
        "\n",
        "# Dividir en conjuntos de entrenamiento (80%) y prueba (20%)\n",
        "X_train, X_test, y_train, y_test = train_test_split(X, y, test_size=0.2, random_state=42)\n"
      ]
    },
    {
      "cell_type": "markdown",
      "id": "8a579bdf",
      "metadata": {
        "id": "8a579bdf"
      },
      "source": [
        "## Paso 3: Entrenamiento del modelo"
      ]
    },
    {
      "cell_type": "code",
      "execution_count": null,
      "id": "9b2fcb39",
      "metadata": {
        "id": "9b2fcb39"
      },
      "outputs": [],
      "source": [
        "from sklearn.linear_model import LinearRegression\n",
        "\n",
        "# Instanciar y entrenar el modelo\n",
        "# INGRESA TU CODIGO ACÁ\n",
        "model = LinearRegression()\n",
        "model.fit(X_train, y_train)\n",
        "\n",
        "# Predecir precios con el conjunto de prueba\n",
        "y_pred = model.predict(X_test)\n",
        "\n",
        "# Realizar predicciones\n",
        "# INGRESA TU CODIGO ACÁ"
      ]
    },
    {
      "cell_type": "markdown",
      "id": "e7eaddd9",
      "metadata": {
        "id": "e7eaddd9"
      },
      "source": [
        "## 📈 Paso 4: Visualización de la recta de regresión"
      ]
    },
    {
      "cell_type": "code",
      "execution_count": null,
      "id": "c9c11d4b",
      "metadata": {
        "colab": {
          "base_uri": "https://localhost:8080/",
          "height": 472
        },
        "id": "c9c11d4b",
        "outputId": "c4174dfe-6a58-40a5-f7f9-c5026ccb812c"
      },
      "outputs": [
        {
          "output_type": "display_data",
          "data": {
            "text/plain": [
              "<Figure size 640x480 with 1 Axes>"
            ],
            "image/png": "[encoded data removed]"
          },
          "metadata": {}
        }
      ],
      "source": [
        "import matplotlib.pyplot as plt\n",
        "\n",
        "order = X_test.squeeze().argsort()\n",
        "plt.scatter(X_test, y_test, color='gray', alpha=0.6, label='Datos reales')\n",
        "plt.plot(X_test.iloc[order], y_pred[order], color='red', label='Línea de regresión')\n",
        "plt.title(\"Precio vs Tamaño en pies cuadrados\")\n",
        "plt.xlabel(\"SqFt\")\n",
        "plt.ylabel(\"Price\")\n",
        "plt.legend()\n",
        "plt.grid(True)\n",
        "plt.show()"
      ]
    },
    {
      "cell_type": "markdown",
      "id": "75bc31c1",
      "metadata": {
        "id": "75bc31c1"
      },
      "source": [
        "##  Paso 5: Cálculo de métricas"
      ]
    },
    {
      "cell_type": "code",
      "execution_count": null,
      "id": "949e3cc0",
      "metadata": {
        "colab": {
          "base_uri": "https://localhost:8080/"
        },
        "id": "949e3cc0",
        "outputId": "8e155376-492e-4509-a6a9-798e7aef69eb"
      },
      "outputs": [
        {
          "output_type": "stream",
          "name": "stdout",
          "text": [
            "Evaluación del modelo:\n",
            "MAE : 15,946\n",
            "MSE : 415,765,841\n",
            "RMSE: 20,390\n",
            "R²  : 0.295\n"
          ]
        }
      ],
      "source": [
        "# Importar funciones para calcular métricas de evaluación de modelos\n",
        "from sklearn.metrics import mean_absolute_error, mean_squared_error, r2_score\n",
        "import numpy as np  # Para operaciones numéricas como raíz cuadrada\n",
        "\n",
        "# Importar funciones para calcular métricas\n",
        "from sklearn.metrics import mean_absolute_error, mean_squared_error, r2_score\n",
        "import numpy as np\n",
        "\n",
        "# Calcular métricas\n",
        "mae = mean_absolute_error(y_test, y_pred)  # Error Absoluto Medio (en unidades originales)\n",
        "mse = mean_squared_error(y_test, y_pred)   # Error Cuadrático Medio (penaliza errores grandes)\n",
        "rmse = np.sqrt(mse)                        # Raíz del Error Cuadrático Medio (interpretable en unidades originales)\n",
        "r2 = r2_score(y_test, y_pred)              # Coeficiente de Determinación R²\n",
        "\n",
        "# Mostrar resultados con formato\n",
        "print(\"Evaluación del modelo:\")\n",
        "print(f\"MAE : {mae:,.0f}\")       # Ejemplo: \"MAE : 25,000\" (dólares/pesos de diferencia promedio)\n",
        "print(f\"MSE : {mse:,.0f}\")       # Ejemplo: \"MSE : 1,000,000,000\" (unidades al cuadrado)\n",
        "print(f\"RMSE: {rmse:,.0f}\")      # Ejemplo: \"RMSE: 31,623\" (similar a MAE pero más sensible a outliers)\n",
        "print(f\"R²  : {r2:.3f}\")         # Ejemplo: \"R²  : 0.750\" (75% de la variabilidad es explicada por el modelo)\n",
        "\n"
      ]
    },
    {
      "cell_type": "markdown",
      "id": "d91e1a2a",
      "metadata": {
        "id": "d91e1a2a"
      },
      "source": [
        "## Paso 6: Reflexión\n",
        "Responde con tus propias palabras:\n",
        "\n",
        "**1. ¿Qué nos dice el MAE sobre el modelo?**\n",
        "  \n",
        "  Interpretación: El MAE (Mean Absolute Error) de 15,946 indica que, en promedio, las predicciones del modelo se desvían $15,946 dólares del precio real de las casas.\n",
        "\n",
        "  Contexto: Es una métrica fácil de entender porque está en las mismas unidades que la variable objetivo (Price). Un MAE alto sugiere que el modelo tiene errores considerables en sus predicciones.\n",
        "\n",
        "**2. ¿Es útil el RMSE en este contexto? ¿Por qué?**\n",
        "  \n",
        "  Sí, es útil porque:\n",
        "\n",
        "  RMSE (Root Mean Squared Error) = 20,390 penaliza más los errores grandes (outliers) que el MAE. Esto es relevante en precios de viviendas, donde una predicción muy incorrecta puede ser costosa.\n",
        "\n",
        "  Al estar en las mismas unidades que Price, permite comparación directa con el MAE. Aquí, el RMSE es mayor que el MAE, lo que sugiere la presencia de algunos errores grandes en las predicciones.\n",
        "\n",
        "**3. ¿Qué indica el valor de R² obtenido?**\n",
        "\n",
        "  R² = 0.295 significa que solo 29.5% de la variabilidad en los precios de las casas es explicada por el tamaño (SqFt).\n",
        "\n",
        "  Implicaciones: El modelo actual es limitado, ya que el 70.5% de la variación en Price depende de otros factores no incluidos (ej. ubicación, número de baños, etc.).\n",
        "\n",
        "  Un R² bajo sugiere que SqFt no es suficiente para predecir el precio con precisión.\n",
        "\n",
        "**4. ¿Qué observaste en el gráfico de dispersión?**\n",
        "  \n",
        "  Relación lineal débil: Los puntos (SqFt vs Price) están dispersos alrededor de la línea de regresión, confirmando el bajo R².\n",
        "\n",
        "  Outliers: Algunas casas con precios muy altos o bajos para su tamaño distorsionan la tendencia.\n",
        "\n",
        "  Conclusión visual: La recta de regresión no captura bien la complejidad de los datos, reforzando la necesidad de incluir más variables.\n",
        "\n",
        "**5. ¿Qué otras variables del dataset podrías incorporar para mejorar el modelo?**\n",
        "  **Variables categóricas:**\n",
        "\n",
        "  Brick (si la casa es de ladrillo): Podría afectar el precio (ej. casas de ladrillo son más valiosas).\n",
        "\n",
        "  Neighborhood (barrio): La ubicación es clave en el valor de una propiedad.\n",
        "\n",
        "  Variables numéricas:\n",
        "\n",
        "  Bedrooms y Bathrooms: Impactan directamente en el precio.\n",
        "\n",
        "  Offers (número de ofertas): Podría indicar demanda y afectar el precio final.\n",
        "\n",
        "  Transformaciones:Crear interacciones entre variables (ej. SqFt * Neighborhood).\n"
      ]
    }
  ],
  "metadata": {
    "colab": {
      "provenance": [],
      "include_colab_link": true
    },
    "language_info": {
      "name": "python"
    },
    "kernelspec": {
      "name": "python3",
      "display_name": "Python 3"
    }
  },
  "nbformat": 4,
  "nbformat_minor": 5
}